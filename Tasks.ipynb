{
 "cells": [
  {
   "cell_type": "code",
   "execution_count": 1,
   "metadata": {},
   "outputs": [],
   "source": [
    "spark = SparkSession \\\n",
    "    .builder \\\n",
    "    .appName(\"Python Spark SQL basic example\") \\\n",
    "    .config(\"spark.some.config.option\", \"some-value\") \\\n",
    "    .getOrCreate()"
   ]
  },
  {
   "cell_type": "code",
   "execution_count": 16,
   "metadata": {},
   "outputs": [],
   "source": [
    "open_park = spark.read.csv(\"C:\\\\Users\\\\ariha\\\\Desktop\\\\Ai\\\\switch2.0\\\\open_violation.csv\",header=True).limit(100)"
   ]
  },
  {
   "cell_type": "code",
   "execution_count": 17,
   "metadata": {},
   "outputs": [],
   "source": [
    "parking_voilation = spark.read.csv(\"C:\\\\Users\\\\ariha\\\\Desktop\\\\Ai\\\\switch2.0\\\\Parking_Violations_Issued_-_Fiscal_Year_2016.csv\",header=True).limit(100)"
   ]
  },
  {
   "cell_type": "code",
   "execution_count": 27,
   "metadata": {},
   "outputs": [
    {
     "name": "stdout",
     "output_type": "stream",
     "text": [
      "root\n",
      " |-- Summons Number: string (nullable = true)\n",
      " |-- Plate ID: string (nullable = true)\n",
      " |-- Registration State: string (nullable = true)\n",
      " |-- Plate Type: string (nullable = true)\n",
      " |-- Issue Date: string (nullable = true)\n",
      " |-- Violation Code: string (nullable = true)\n",
      " |-- Vehicle Body Type: string (nullable = true)\n",
      " |-- Vehicle Make: string (nullable = true)\n",
      " |-- Issuing Agency: string (nullable = true)\n",
      " |-- Street Code1: string (nullable = true)\n",
      " |-- Street Code2: string (nullable = true)\n",
      " |-- Street Code3: string (nullable = true)\n",
      " |-- Vehicle Expiration Date: string (nullable = true)\n",
      " |-- Violation Location: string (nullable = true)\n",
      " |-- Violation Precinct: string (nullable = true)\n",
      " |-- Issuer Precinct: string (nullable = true)\n",
      " |-- Issuer Code: string (nullable = true)\n",
      " |-- Issuer Command: string (nullable = true)\n",
      " |-- Issuer Squad: string (nullable = true)\n",
      " |-- Violation Time: string (nullable = true)\n",
      " |-- Time First Observed: string (nullable = true)\n",
      " |-- Violation County: string (nullable = true)\n",
      " |-- Violation In Front Of Or Opposite: string (nullable = true)\n",
      " |-- House Number: string (nullable = true)\n",
      " |-- Street Name: string (nullable = true)\n",
      " |-- Intersecting Street: string (nullable = true)\n",
      " |-- Date First Observed: string (nullable = true)\n",
      " |-- Law Section: string (nullable = true)\n",
      " |-- Sub Division: string (nullable = true)\n",
      " |-- Violation Legal Code: string (nullable = true)\n",
      " |-- Days Parking In Effect    : string (nullable = true)\n",
      " |-- From Hours In Effect: string (nullable = true)\n",
      " |-- To Hours In Effect: string (nullable = true)\n",
      " |-- Vehicle Color: string (nullable = true)\n",
      " |-- Unregistered Vehicle?: string (nullable = true)\n",
      " |-- Vehicle Year: string (nullable = true)\n",
      " |-- Meter Number: string (nullable = true)\n",
      " |-- Feet From Curb: string (nullable = true)\n",
      " |-- Violation Post Code: string (nullable = true)\n",
      " |-- Violation Description: string (nullable = true)\n",
      " |-- No Standing or Stopping Violation: string (nullable = true)\n",
      " |-- Hydrant Violation: string (nullable = true)\n",
      " |-- Double Parking Violation: string (nullable = true)\n",
      "\n",
      "root\n",
      " |-- Plate: string (nullable = true)\n",
      " |-- State: string (nullable = true)\n",
      " |-- License Type: string (nullable = true)\n",
      " |-- Summons Number: string (nullable = true)\n",
      " |-- Issue Date: string (nullable = true)\n",
      " |-- Violation Time: string (nullable = true)\n",
      " |-- Violation: string (nullable = true)\n",
      " |-- Judgment Entry Date: string (nullable = true)\n",
      " |-- Fine Amount: string (nullable = true)\n",
      " |-- Penalty Amount: string (nullable = true)\n",
      " |-- Interest Amount: string (nullable = true)\n",
      " |-- Reduction Amount: string (nullable = true)\n",
      " |-- Payment Amount: string (nullable = true)\n",
      " |-- Amount Due: string (nullable = true)\n",
      " |-- Precinct: string (nullable = true)\n",
      " |-- County: string (nullable = true)\n",
      " |-- Issuing Agency: string (nullable = true)\n",
      " |-- Violation Status: string (nullable = true)\n",
      " |-- Summons Image: string (nullable = true)\n",
      "\n"
     ]
    }
   ],
   "source": [
    "parking_voilation.printSchema()\n",
    "open_park.printSchema()"
   ]
  },
  {
   "cell_type": "markdown",
   "metadata": {},
   "source": [
    "## Task 1\n",
    "write a Spark program that finds all parking violations that have been paid, i.e., that do not occur in open\u0002violations.csv."
   ]
  },
  {
   "cell_type": "code",
   "execution_count": 26,
   "metadata": {},
   "outputs": [],
   "source": [
    "# filter_the amount_due =0\n",
    "open_parking_amount_due_zero= open_park.filter(open_park[\"Amount Due\"]==\"$0.00\")"
   ]
  },
  {
   "cell_type": "code",
   "execution_count": 34,
   "metadata": {},
   "outputs": [
    {
     "data": {
      "text/plain": [
       "DataFrame[plate id: string, violation precinct: string, violation code: string]"
      ]
     },
     "execution_count": 34,
     "metadata": {},
     "output_type": "execute_result"
    }
   ],
   "source": [
    "fines_paid= parking_voilation.join(open_parking_amount_due_zero,parking_voilation[\"Summons Number\"]== \\\n",
    "                                   open_parking_amount_due_zero[\"Summons Number\"],\"inner\")\n",
    "# fines_paid.printSchema()\n",
    "fines_paid.select(fines_paid[\"plate id\"],fines_paid[\"violation precinct\"],fines_paid[\"violation code\"])\n"
   ]
  },
  {
   "cell_type": "markdown",
   "metadata": {},
   "source": [
    "##  Task2"
   ]
  },
  {
   "cell_type": "markdown",
   "metadata": {},
   "source": [
    "Write a Spark program that finds the distribution of the violation types, i.e., for each violation code, the \n",
    "number of violations that have this code."
   ]
  },
  {
   "cell_type": "code",
   "execution_count": 42,
   "metadata": {},
   "outputs": [
    {
     "name": "stdout",
     "output_type": "stream",
     "text": [
      "+--------------+-----+\n",
      "|Violation Code|count|\n",
      "+--------------+-----+\n",
      "|            46|    2|\n",
      "|            21|   63|\n",
      "|            75|    1|\n",
      "|            71|    9|\n",
      "|            41|    2|\n",
      "|            70|    3|\n",
      "|            20|    4|\n",
      "|            38|    2|\n",
      "|            67|    1|\n",
      "|            37|    6|\n",
      "|            40|    2|\n",
      "|            74|    2|\n",
      "|            18|    1|\n",
      "|            68|    2|\n",
      "+--------------+-----+\n",
      "\n"
     ]
    }
   ],
   "source": [
    "alpha = parking_voilation.groupBy(\"Violation Code\").count()\n",
    "alpha.show()"
   ]
  },
  {
   "cell_type": "markdown",
   "metadata": {},
   "source": [
    "## Task 3:\n",
    "Write a Spark program that finds the total and average amount due in open violations for each license \n"
   ]
  },
  {
   "cell_type": "code",
   "execution_count": 43,
   "metadata": {},
   "outputs": [
    {
     "name": "stdout",
     "output_type": "stream",
     "text": [
      "root\n",
      " |-- Plate: string (nullable = true)\n",
      " |-- State: string (nullable = true)\n",
      " |-- License Type: string (nullable = true)\n",
      " |-- Summons Number: string (nullable = true)\n",
      " |-- Issue Date: string (nullable = true)\n",
      " |-- Violation Time: string (nullable = true)\n",
      " |-- Violation: string (nullable = true)\n",
      " |-- Judgment Entry Date: string (nullable = true)\n",
      " |-- Fine Amount: string (nullable = true)\n",
      " |-- Penalty Amount: string (nullable = true)\n",
      " |-- Interest Amount: string (nullable = true)\n",
      " |-- Reduction Amount: string (nullable = true)\n",
      " |-- Payment Amount: string (nullable = true)\n",
      " |-- Amount Due: string (nullable = true)\n",
      " |-- Precinct: string (nullable = true)\n",
      " |-- County: string (nullable = true)\n",
      " |-- Issuing Agency: string (nullable = true)\n",
      " |-- Violation Status: string (nullable = true)\n",
      " |-- Summons Image: string (nullable = true)\n",
      "\n"
     ]
    }
   ],
   "source": [
    "open_park.printSchema()"
   ]
  },
  {
   "cell_type": "code",
   "execution_count": 74,
   "metadata": {},
   "outputs": [
    {
     "name": "stdout",
     "output_type": "stream",
     "text": [
      "root\n",
      " |-- Plate: string (nullable = true)\n",
      " |-- State: string (nullable = true)\n",
      " |-- License Type: string (nullable = true)\n",
      " |-- Summons Number: string (nullable = true)\n",
      " |-- Issue Date: string (nullable = true)\n",
      " |-- Violation Time: string (nullable = true)\n",
      " |-- Violation: string (nullable = true)\n",
      " |-- Judgment Entry Date: string (nullable = true)\n",
      " |-- Fine Amount: string (nullable = true)\n",
      " |-- Penalty Amount: string (nullable = true)\n",
      " |-- Interest Amount: string (nullable = true)\n",
      " |-- Reduction Amount: string (nullable = true)\n",
      " |-- Payment Amount: string (nullable = true)\n",
      " |-- Amount Due: string (nullable = true)\n",
      " |-- Precinct: string (nullable = true)\n",
      " |-- County: string (nullable = true)\n",
      " |-- Issuing Agency: string (nullable = true)\n",
      " |-- Violation Status: string (nullable = true)\n",
      " |-- Summons Image: string (nullable = true)\n",
      " |-- Amount_Due: integer (nullable = true)\n",
      "\n"
     ]
    }
   ],
   "source": [
    "new_pen_violation=open_park.withColumn(\"Amount_Due\",open_park[\"Amount Due\"].cast(\"int\"))\n",
    "new_pen_violation.printSchema()"
   ]
  },
  {
   "cell_type": "code",
   "execution_count": 95,
   "metadata": {},
   "outputs": [
    {
     "name": "stdout",
     "output_type": "stream",
     "text": [
      "+------------+---------------+---------------+\n",
      "|License Type|avg(Amount_Due)|sum(Amount_Due)|\n",
      "+------------+---------------+---------------+\n",
      "|         PAS|           null|           null|\n",
      "|         999|           null|           null|\n",
      "|         COM|           null|           null|\n",
      "|         OMT|           null|           null|\n",
      "|         OMS|           null|           null|\n",
      "+------------+---------------+---------------+\n",
      "\n"
     ]
    }
   ],
   "source": [
    "import pyspark\n",
    "from pyspark.sql import SparkSession\n",
    "from pyspark.sql.functions import col,sum,avg,max\n",
    "from pyspark.sql import functions as F\n",
    "# new_pen_violation.groupBy(\"License Type\").agg(F.mean('Amount_Due'), F.sum('Amount_Due')).show()\n",
    "a= new_pen_violation.groupBy(\"License Type\").agg(avg('Amount_Due'), sum('Amount_Due')).show()\n",
    "\n",
    "                          \n",
    "\n"
   ]
  },
  {
   "cell_type": "markdown",
   "metadata": {},
   "source": [
    "# Task 4\n",
    "\n",
    "This was correct"
   ]
  },
  {
   "cell_type": "markdown",
   "metadata": {},
   "source": [
    "Write a Spark program that computes the total number of violations for vehicles registered in the state of \n",
    "NY and all other vehicles"
   ]
  },
  {
   "cell_type": "code",
   "execution_count": 83,
   "metadata": {},
   "outputs": [
    {
     "name": "stdout",
     "output_type": "stream",
     "text": [
      "root\n",
      " |-- Plate: string (nullable = true)\n",
      " |-- State: string (nullable = true)\n",
      " |-- License Type: string (nullable = true)\n",
      " |-- Summons Number: string (nullable = true)\n",
      " |-- Issue Date: string (nullable = true)\n",
      " |-- Violation Time: string (nullable = true)\n",
      " |-- Violation: string (nullable = true)\n",
      " |-- Judgment Entry Date: string (nullable = true)\n",
      " |-- Fine Amount: string (nullable = true)\n",
      " |-- Penalty Amount: string (nullable = true)\n",
      " |-- Interest Amount: string (nullable = true)\n",
      " |-- Reduction Amount: string (nullable = true)\n",
      " |-- Payment Amount: string (nullable = true)\n",
      " |-- Amount Due: string (nullable = true)\n",
      " |-- Precinct: string (nullable = true)\n",
      " |-- County: string (nullable = true)\n",
      " |-- Issuing Agency: string (nullable = true)\n",
      " |-- Violation Status: string (nullable = true)\n",
      " |-- Summons Image: string (nullable = true)\n",
      "\n"
     ]
    }
   ],
   "source": [
    "open_park.printSchema()"
   ]
  },
  {
   "cell_type": "markdown",
   "metadata": {},
   "source": [
    "# tASK 5"
   ]
  },
  {
   "cell_type": "code",
   "execution_count": 96,
   "metadata": {},
   "outputs": [],
   "source": [
    "open_park_1=open_park.groupBy(\"Plate\",\"State\").count()"
   ]
  },
  {
   "cell_type": "code",
   "execution_count": 102,
   "metadata": {},
   "outputs": [
    {
     "name": "stdout",
     "output_type": "stream",
     "text": [
      "root\n",
      " |-- Plate: string (nullable = true)\n",
      " |-- State: string (nullable = true)\n",
      " |-- count: long (nullable = false)\n",
      "\n"
     ]
    }
   ],
   "source": [
    "open_park_1.printSchema()"
   ]
  },
  {
   "cell_type": "code",
   "execution_count": 105,
   "metadata": {},
   "outputs": [],
   "source": [
    "a=open_park_1.groupby().max('count')"
   ]
  },
  {
   "cell_type": "code",
   "execution_count": 108,
   "metadata": {},
   "outputs": [
    {
     "name": "stdout",
     "output_type": "stream",
     "text": [
      "+----------+\n",
      "|max(count)|\n",
      "+----------+\n",
      "|         7|\n",
      "+----------+\n",
      "\n"
     ]
    }
   ],
   "source": [
    "a.show()"
   ]
  },
  {
   "cell_type": "markdown",
   "metadata": {},
   "source": [
    "## Task 6"
   ]
  },
  {
   "cell_type": "code",
   "execution_count": null,
   "metadata": {},
   "outputs": [],
   "source": []
  }
 ],
 "metadata": {
  "kernelspec": {
   "display_name": "Python 3",
   "language": "python",
   "name": "python3"
  },
  "language_info": {
   "codemirror_mode": {
    "name": "ipython",
    "version": 3
   },
   "file_extension": ".py",
   "mimetype": "text/x-python",
   "name": "python",
   "nbconvert_exporter": "python",
   "pygments_lexer": "ipython3",
   "version": "3.8.3"
  }
 },
 "nbformat": 4,
 "nbformat_minor": 4
}
